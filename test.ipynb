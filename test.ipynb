{
 "cells": [
  {
   "cell_type": "code",
   "execution_count": 3,
   "id": "439bdc37",
   "metadata": {},
   "outputs": [],
   "source": [
    "import akshare as ak\n",
    "from datetime import datetime"
   ]
  },
  {
   "cell_type": "code",
   "execution_count": 5,
   "id": "fbc5b5f3",
   "metadata": {},
   "outputs": [
    {
     "name": "stdout",
     "output_type": "stream",
     "text": [
      "20250722\n"
     ]
    }
   ],
   "source": [
    "end_date = datetime.now().strftime('%Y%m%d')\n",
    "print(end_date)"
   ]
  },
  {
   "cell_type": "code",
   "execution_count": 10,
   "id": "d2209ef0",
   "metadata": {},
   "outputs": [
    {
     "name": "stdout",
     "output_type": "stream",
     "text": [
      "             日期    股票代码    开盘    收盘    最高    最低     成交量          成交额    振幅  \\\n",
      "0    2024-03-01  920819  3.79  3.74  3.79  3.73   27098  10159507.52  1.60   \n",
      "1    2024-03-04  920819  3.75  3.68  3.77  3.65   25509   9392377.06  3.21   \n",
      "2    2024-03-05  920819  3.68  3.59  3.68  3.56   37041  13322379.45  3.26   \n",
      "3    2024-03-06  920819  3.59  3.60  3.63  3.57   25136   9056424.62  1.67   \n",
      "4    2024-03-07  920819  3.60  3.53  3.60  3.50   38417  13632851.59  2.78   \n",
      "..          ...     ...   ...   ...   ...   ...     ...          ...   ...   \n",
      "333  2025-07-16  920819  4.22  4.19  4.23  4.16   83623  35059628.63  1.67   \n",
      "334  2025-07-17  920819  4.17  4.18  4.20  4.16   74366  31080436.87  0.95   \n",
      "335  2025-07-18  920819  4.20  4.17  4.20  4.15   58493  24384613.39  1.20   \n",
      "336  2025-07-21  920819  4.18  4.24  4.24  4.16  110521  46501990.01  1.92   \n",
      "337  2025-07-22  920819  4.24  4.22  4.24  4.17  114616  48201197.22  1.65   \n",
      "\n",
      "      涨跌幅   涨跌额   换手率  \n",
      "0   -0.53 -0.02  0.22  \n",
      "1   -1.60 -0.06  0.21  \n",
      "2   -2.45 -0.09  0.31  \n",
      "3    0.28  0.01  0.21  \n",
      "4   -1.94 -0.07  0.32  \n",
      "..    ...   ...   ...  \n",
      "333 -0.24 -0.01  0.69  \n",
      "334 -0.24 -0.01  0.62  \n",
      "335 -0.24 -0.01  0.48  \n",
      "336  1.68  0.07  0.92  \n",
      "337 -0.47 -0.02  0.95  \n",
      "\n",
      "[338 rows x 12 columns]\n"
     ]
    }
   ],
   "source": [
    "import akshare as ak\n",
    "\n",
    "stock_zh_a_hist_df = ak.stock_zh_a_hist(symbol=\"920819\", period=\"daily\", start_date=\"20240301\", end_date='20251022', adjust=\"\")\n",
    "print(stock_zh_a_hist_df)"
   ]
  },
  {
   "cell_type": "code",
   "execution_count": 12,
   "id": "455a0c41",
   "metadata": {},
   "outputs": [
    {
     "name": "stdout",
     "output_type": "stream",
     "text": [
      "{'openai': '', 'anthropic': '', 'zhipu': ''}\n"
     ]
    }
   ],
   "source": [
    "from pydantic import BaseModel\n",
    "\n",
    "class APIKeys(BaseModel):\n",
    "    openai: str = \"\"\n",
    "    anthropic: str = \"\"\n",
    "    zhipu: str = \"\"\n",
    "    \n",
    "a = APIKeys()\n",
    "print(a.model_dump())"
   ]
  },
  {
   "cell_type": "code",
   "execution_count": null,
   "id": "87f7491c",
   "metadata": {},
   "outputs": [],
   "source": []
  }
 ],
 "metadata": {
  "kernelspec": {
   "display_name": "stock",
   "language": "python",
   "name": "python3"
  },
  "language_info": {
   "codemirror_mode": {
    "name": "ipython",
    "version": 3
   },
   "file_extension": ".py",
   "mimetype": "text/x-python",
   "name": "python",
   "nbconvert_exporter": "python",
   "pygments_lexer": "ipython3",
   "version": "3.11.0"
  }
 },
 "nbformat": 4,
 "nbformat_minor": 5
}
